{
 "cells": [
  {
   "cell_type": "code",
   "execution_count": 1,
   "id": "1861a893",
   "metadata": {
    "_cell_guid": "b1076dfc-b9ad-4769-8c92-a6c4dae69d19",
    "_uuid": "8f2839f25d086af736a60e9eeb907d3b93b6e0e5",
    "execution": {
     "iopub.execute_input": "2024-06-30T06:01:40.862359Z",
     "iopub.status.busy": "2024-06-30T06:01:40.861878Z",
     "iopub.status.idle": "2024-06-30T06:01:43.195574Z",
     "shell.execute_reply": "2024-06-30T06:01:43.194195Z"
    },
    "papermill": {
     "duration": 2.344248,
     "end_time": "2024-06-30T06:01:43.198767",
     "exception": false,
     "start_time": "2024-06-30T06:01:40.854519",
     "status": "completed"
    },
    "tags": []
   },
   "outputs": [],
   "source": [
    "# This Python 3 environment comes with many helpful analytics libraries installed\n",
    "# It is defined by the kaggle/python Docker image: https://github.com/kaggle/docker-python\n",
    "# For example, here's several helpful packages to load\n",
    "\n",
    "import numpy as np # linear algebra\n",
    "import pandas as pd # data processing, CSV file I/O (e.g. pd.read_csv)\n",
    "from scipy.stats import nbinom\n",
    "import matplotlib.pyplot as plt\n",
    "\n",
    "# Input data files are available in the read-only \"../input/\" directory\n",
    "# For example, running this (by clicking run or pressing Shift+Enter) will list all files under the input directory\n",
    "\n",
    "import os\n",
    "\n",
    "# You can write up to 20GB to the current directory (/kaggle/working/) that gets preserved as output when you create a version using \"Save & Run All\" \n",
    "# You can also write temporary files to /kaggle/temp/, but they won't be saved outside of the current session"
   ]
  },
  {
   "cell_type": "code",
   "execution_count": 2,
   "id": "5f2f9a7e",
   "metadata": {
    "execution": {
     "iopub.execute_input": "2024-06-30T06:01:43.212291Z",
     "iopub.status.busy": "2024-06-30T06:01:43.211701Z",
     "iopub.status.idle": "2024-06-30T06:01:43.240578Z",
     "shell.execute_reply": "2024-06-30T06:01:43.238931Z"
    },
    "papermill": {
     "duration": 0.039616,
     "end_time": "2024-06-30T06:01:43.244186",
     "exception": false,
     "start_time": "2024-06-30T06:01:43.204570",
     "status": "completed"
    },
    "tags": []
   },
   "outputs": [],
   "source": [
    "#read in villagers.csv file and store data into villagers \n",
    "\n",
    "villagers = pd.read_csv('/kaggle/input/villagers/villagers.csv')"
   ]
  },
  {
   "cell_type": "markdown",
   "id": "15280e4e",
   "metadata": {
    "papermill": {
     "duration": 0.006074,
     "end_time": "2024-06-30T06:01:43.257337",
     "exception": false,
     "start_time": "2024-06-30T06:01:43.251263",
     "status": "completed"
    },
    "tags": []
   },
   "source": [
    "# Data Collection and Cleaning"
   ]
  },
  {
   "cell_type": "markdown",
   "id": "4219255d",
   "metadata": {
    "papermill": {
     "duration": 0.005277,
     "end_time": "2024-06-30T06:01:43.267840",
     "exception": false,
     "start_time": "2024-06-30T06:01:43.262563",
     "status": "completed"
    },
    "tags": []
   },
   "source": [
    "Retrieve villager and species information to determine the probability of finding a specific villager given the villager species and total number of species."
   ]
  },
  {
   "cell_type": "code",
   "execution_count": 3,
   "id": "49728d2c",
   "metadata": {
    "execution": {
     "iopub.execute_input": "2024-06-30T06:01:43.282006Z",
     "iopub.status.busy": "2024-06-30T06:01:43.281424Z",
     "iopub.status.idle": "2024-06-30T06:01:43.318493Z",
     "shell.execute_reply": "2024-06-30T06:01:43.317152Z"
    },
    "papermill": {
     "duration": 0.047694,
     "end_time": "2024-06-30T06:01:43.321680",
     "exception": false,
     "start_time": "2024-06-30T06:01:43.273986",
     "status": "completed"
    },
    "tags": []
   },
   "outputs": [
    {
     "name": "stdout",
     "output_type": "stream",
     "text": [
      "         Name    Species  Gender Personality      Hobby Birthday Catchphrase  \\\n",
      "0     Admiral       Bird    Male      Cranky     Nature   27-Jan     aye aye   \n",
      "1     Agent S   Squirrel  Female       Peppy    Fitness    2-Jul    sidekick   \n",
      "2       Agnes        Pig  Female  Big Sister       Play   21-Apr     snuffle   \n",
      "3          Al    Gorilla    Male        Lazy    Fitness   18-Oct     ayyyeee   \n",
      "4     Alfonso  Alligator    Male        Lazy       Play    9-Jun    it'sa me   \n",
      "..        ...        ...     ...         ...        ...      ...         ...   \n",
      "386    Winnie      Horse  Female       Peppy    Fashion   31-Jan      hay-OK   \n",
      "387  Wolfgang       Wolf    Male      Cranky  Education   25-Nov     snarrrl   \n",
      "388      Yuka      Koala  Female      Snooty    Fashion   20-Jul     tsk tsk   \n",
      "389      Zell       Deer    Male        Smug      Music    7-Jun       pronk   \n",
      "390    Zucker    Octopus    Male        Lazy     Nature    8-Mar       bloop   \n",
      "\n",
      "       Favorite Song Style 1   Style 2 Color 1 Color 2  \\\n",
      "0         Steep Hill    Cool      Cool   Black    Blue   \n",
      "1      Go K.K. Rider  Active    Simple    Blue   Black   \n",
      "2         K.K. House  Simple   Elegant    Pink   White   \n",
      "3      Go K.K. Rider  Active    Active     Red   White   \n",
      "4        Forest Life  Simple    Simple     Red    Blue   \n",
      "..               ...     ...       ...     ...     ...   \n",
      "386     K.K. Country    Cool    Simple   White    Gray   \n",
      "387         K.K. D&B    Cool    Active   Black   Green   \n",
      "388     Soulful K.K.    Cool   Elegant  Orange  Yellow   \n",
      "389       K.K. Swing    Cool  Gorgeous  Purple    Gray   \n",
      "390  Spring Blossoms  Simple      Cute    Blue  Yellow   \n",
      "\n",
      "                   Wallpaper                     Flooring  \\\n",
      "0             dirt-clod wall                       tatami   \n",
      "1              concrete wall       colorful tile flooring   \n",
      "2     gray molded-panel wall           arabesque flooring   \n",
      "3              concrete wall        green rubber flooring   \n",
      "4       yellow playroom wall         green honeycomb tile   \n",
      "..                       ...                          ...   \n",
      "386      backyard-fence wall                backyard lawn   \n",
      "387  dark wooden-mosaic wall              stripe flooring   \n",
      "388      beige art-deco wall       simple purple flooring   \n",
      "389           cityscape wall  monochromatic tile flooring   \n",
      "390         chain-link fence                backyard lawn   \n",
      "\n",
      "                                        Furniture List Filename  \\\n",
      "0    717;1849;7047;2736;787;5970;3449;3622;3802;410...    brd06   \n",
      "1    7845;7150;3468;4080;290;3971;3449;1708;4756;25...    squ05   \n",
      "2    4129;7236;7235;7802;896;3428;4027;7325;3958;71...    pig17   \n",
      "3    1452;4078;4013;833;4116;3697;7845;3307;3946;39...    gor08   \n",
      "4    4763;3205;3701;1557;3623;85;3208;3584;4761;121...    crd00   \n",
      "..                                                 ...      ...   \n",
      "386  1626;1626;5970;4003;3509;1620;1627;3467;1631;1...    hrs05   \n",
      "387  4117;7323;7323;3275;4109;3270;3196;4338;3200;3...    wol02   \n",
      "388    3957;3955;2554;3974;3951;794;4106;3959;3958;997    kal00   \n",
      "389  1875;863;4129;4053;4053;3951;794;3775;4046;423...    der02   \n",
      "390  4042;4412;7526;4077;4077;3064;4077;3946;3617;3...    ocp02   \n",
      "\n",
      "       Unique Entry ID  \n",
      "0    B3RyfNEqwGmcccRC3  \n",
      "1    SGMdki6dzpDZyXAw5  \n",
      "2    jzWCiDPm9MqtCfecP  \n",
      "3    LBifxETQJGEaLhBjC  \n",
      "4    REpd8KxB8p9aGBRSE  \n",
      "..                 ...  \n",
      "386  b4HwfyvThyipScSAv  \n",
      "387  RbF2wcn6jRxtgLDRd  \n",
      "388  QDcxk3dCNT6yeD9hk  \n",
      "389  LodBWtdMRZbjFNga9  \n",
      "390  2F5tipHqgmWvWXTLC  \n",
      "\n",
      "[391 rows x 17 columns]\n",
      "The total amount of unique villagers:  391\n"
     ]
    }
   ],
   "source": [
    "#print all the villagers and their info\n",
    "print(villagers)\n",
    "\n",
    "#count the number of total villagers\n",
    "villagers_total = len(villagers)\n",
    "print(\"The total amount of unique villagers: \", villagers_total)"
   ]
  },
  {
   "cell_type": "code",
   "execution_count": 4,
   "id": "a1e72503",
   "metadata": {
    "execution": {
     "iopub.execute_input": "2024-06-30T06:01:43.334178Z",
     "iopub.status.busy": "2024-06-30T06:01:43.333777Z",
     "iopub.status.idle": "2024-06-30T06:01:43.344108Z",
     "shell.execute_reply": "2024-06-30T06:01:43.342529Z"
    },
    "papermill": {
     "duration": 0.019963,
     "end_time": "2024-06-30T06:01:43.347181",
     "exception": false,
     "start_time": "2024-06-30T06:01:43.327218",
     "status": "completed"
    },
    "tags": []
   },
   "outputs": [
    {
     "name": "stdout",
     "output_type": "stream",
     "text": [
      "The total amount of unique species:  35\n"
     ]
    }
   ],
   "source": [
    "#print the amount of species \n",
    "species_total = len(pd.unique(villagers['Species']))\n",
    "\n",
    "print(\"The total amount of unique species: \", species_total)"
   ]
  },
  {
   "cell_type": "code",
   "execution_count": 5,
   "id": "79f5162a",
   "metadata": {
    "execution": {
     "iopub.execute_input": "2024-06-30T06:01:43.361212Z",
     "iopub.status.busy": "2024-06-30T06:01:43.360796Z",
     "iopub.status.idle": "2024-06-30T06:01:43.375840Z",
     "shell.execute_reply": "2024-06-30T06:01:43.374619Z"
    },
    "papermill": {
     "duration": 0.026122,
     "end_time": "2024-06-30T06:01:43.379188",
     "exception": false,
     "start_time": "2024-06-30T06:01:43.353066",
     "status": "completed"
    },
    "tags": []
   },
   "outputs": [
    {
     "name": "stdout",
     "output_type": "stream",
     "text": [
      "12    Cat\n",
      "Name: Species, dtype: object\n",
      "The amount of villagers given the species:  23\n"
     ]
    }
   ],
   "source": [
    "#select a unique villager\n",
    "villager_name = 'Ankha'\n",
    "\n",
    "#print the species of the selected villager\n",
    "species = villagers[villagers.Name.isin([villager_name])].Species\n",
    "print(species)\n",
    "\n",
    "#print the total number of villagers given the species of the selected villager\n",
    "villagers_given_species = (villagers['Species'] == 'Cat').sum()\n",
    "print(\"The amount of villagers given the species: \", villagers_given_species)"
   ]
  },
  {
   "cell_type": "markdown",
   "id": "fc8a704d",
   "metadata": {
    "papermill": {
     "duration": 0.006365,
     "end_time": "2024-06-30T06:01:43.393671",
     "exception": false,
     "start_time": "2024-06-30T06:01:43.387306",
     "status": "completed"
    },
    "tags": []
   },
   "source": [
    "# Data Analysis"
   ]
  },
  {
   "cell_type": "markdown",
   "id": "818199d2",
   "metadata": {
    "papermill": {
     "duration": 0.005676,
     "end_time": "2024-06-30T06:01:43.405550",
     "exception": false,
     "start_time": "2024-06-30T06:01:43.399874",
     "status": "completed"
    },
    "tags": []
   },
   "source": [
    "Calculate the probability of finding the selected villager given the total amount of unique villagers and the total amount of villagers given the species of the selected villager"
   ]
  },
  {
   "cell_type": "code",
   "execution_count": 6,
   "id": "a3ad86e8",
   "metadata": {
    "execution": {
     "iopub.execute_input": "2024-06-30T06:01:43.418586Z",
     "iopub.status.busy": "2024-06-30T06:01:43.418126Z",
     "iopub.status.idle": "2024-06-30T06:01:43.426307Z",
     "shell.execute_reply": "2024-06-30T06:01:43.424523Z"
    },
    "papermill": {
     "duration": 0.018268,
     "end_time": "2024-06-30T06:01:43.429563",
     "exception": false,
     "start_time": "2024-06-30T06:01:43.411295",
     "status": "completed"
    },
    "tags": []
   },
   "outputs": [
    {
     "name": "stdout",
     "output_type": "stream",
     "text": [
      "0.0012422360248447203\n",
      "The probability of finding Ankha during a villager hunt is: 0.12%\n"
     ]
    }
   ],
   "source": [
    "#Condition: find the probability of finding the selected villager, given you already have x number of the same species on your island\n",
    "x = 0\n",
    "\n",
    "prob = (1/species_total)*(1/(villagers_given_species-x))\n",
    "print(prob)\n",
    "print(\"The probability of finding %s during a villager hunt is: %s%%\" % (villager_name, round(prob*100,2)))"
   ]
  },
  {
   "cell_type": "code",
   "execution_count": 7,
   "id": "04970a85",
   "metadata": {
    "execution": {
     "iopub.execute_input": "2024-06-30T06:01:43.444491Z",
     "iopub.status.busy": "2024-06-30T06:01:43.443936Z",
     "iopub.status.idle": "2024-06-30T06:01:43.455882Z",
     "shell.execute_reply": "2024-06-30T06:01:43.453958Z"
    },
    "papermill": {
     "duration": 0.022785,
     "end_time": "2024-06-30T06:01:43.458875",
     "exception": false,
     "start_time": "2024-06-30T06:01:43.436090",
     "status": "completed"
    },
    "tags": []
   },
   "outputs": [
    {
     "name": "stdout",
     "output_type": "stream",
     "text": [
      "0.11798289716970702\n",
      "The probability of finding Ankha during a villager hunt given you have already have 0 of the same species and 100 tickets is: 11.8%\n"
     ]
    }
   ],
   "source": [
    "#Calculate the odds of finding a specific villager based on the number of tickets.\n",
    "tickets = 100\n",
    "\n",
    "#Each visit to an island is an independent bernoulli trial. To find the probability of finding the selected villager given a certain number of tickets, we\n",
    "#must use a negative binomial distribution model, where we find the number of successes in multiple independent and identical bernoulli trials, which is\n",
    "#finding the selected villager \n",
    "\n",
    "nmt_prob = nbinom.cdf(tickets, 1, prob)\n",
    "print(nmt_prob)\n",
    "rounded_nmt_prob = round(nmt_prob*100,2)\n",
    "print(\"The probability of finding %s during a villager hunt given you have already have %s of the same species and %s tickets is: %s%%\" % (villager_name, x, tickets,rounded_nmt_prob))\n"
   ]
  },
  {
   "cell_type": "markdown",
   "id": "d6ab70d3",
   "metadata": {
    "papermill": {
     "duration": 0.007032,
     "end_time": "2024-06-30T06:01:43.471921",
     "exception": false,
     "start_time": "2024-06-30T06:01:43.464889",
     "status": "completed"
    },
    "tags": []
   },
   "source": [
    "# Data Visualization"
   ]
  },
  {
   "cell_type": "code",
   "execution_count": 8,
   "id": "cb0eba64",
   "metadata": {
    "execution": {
     "iopub.execute_input": "2024-06-30T06:01:43.490613Z",
     "iopub.status.busy": "2024-06-30T06:01:43.490043Z",
     "iopub.status.idle": "2024-06-30T06:01:43.948184Z",
     "shell.execute_reply": "2024-06-30T06:01:43.946877Z"
    },
    "papermill": {
     "duration": 0.470052,
     "end_time": "2024-06-30T06:01:43.951776",
     "exception": false,
     "start_time": "2024-06-30T06:01:43.481724",
     "status": "completed"
    },
    "tags": []
   },
   "outputs": [
    {
     "data": {
      "image/png": "[encoded data removed]",
      "text/plain": [
       "<Figure size 1000x600 with 1 Axes>"
      ]
     },
     "metadata": {},
     "output_type": "display_data"
    }
   ],
   "source": [
    "#As the number of tickets increase or decrease, what is the probability of finding the \n",
    "#selected villager?\n",
    "\n",
    "#Graph that shows a relationship between the amount of nook mile tickets available\n",
    "#and the probability of finding the given villager\n",
    "\n",
    "ticket_range = np.arange(1, 1000)  # Ticket numbers from 1 to 100\n",
    "probabilities = nbinom.cdf(ticket_range, 1, prob) * 100  # Convert to percentage\n",
    "\n",
    "# Plot the graph\n",
    "plt.figure(figsize=(10, 6))\n",
    "plt.plot(ticket_range, probabilities, label='Probability (%)')\n",
    "\n",
    "# Optionally, mark a specific data point\n",
    "tickets = 100\n",
    "probability_percentage = nbinom.cdf(tickets, 1, prob) * 100\n",
    "plt.scatter(tickets, probability_percentage, color='red', zorder=5)\n",
    "plt.text(tickets, probability_percentage, f' ({tickets}, {probability_percentage:.2f}%)', fontsize=12, ha='left')\n",
    "\n",
    "plt.title('Number of Tickets and Probability of Finding Selected Villager')\n",
    "plt.xlabel('Number of Tickets')\n",
    "plt.ylabel('Probability (%)')\n",
    "plt.legend()\n",
    "plt.grid(True)\n",
    "plt.show()"
   ]
  }
 ],
 "metadata": {
  "kaggle": {
   "accelerator": "none",
   "dataSources": [
    {
     "datasetId": 661950,
     "sourceId": 2314697,
     "sourceType": "datasetVersion"
    },
    {
     "datasetId": 5290681,
     "sourceId": 8798546,
     "sourceType": "datasetVersion"
    }
   ],
   "dockerImageVersionId": 30732,
   "isGpuEnabled": false,
   "isInternetEnabled": true,
   "language": "python",
   "sourceType": "notebook"
  },
  "kernelspec": {
   "display_name": "Python 3",
   "language": "python",
   "name": "python3"
  },
  "language_info": {
   "codemirror_mode": {
    "name": "ipython",
    "version": 3
   },
   "file_extension": ".py",
   "mimetype": "text/x-python",
   "name": "python",
   "nbconvert_exporter": "python",
   "pygments_lexer": "ipython3",
   "version": "3.10.13"
  },
  "papermill": {
   "default_parameters": {},
   "duration": 7.037095,
   "end_time": "2024-06-30T06:01:44.583346",
   "environment_variables": {},
   "exception": null,
   "input_path": "__notebook__.ipynb",
   "output_path": "__notebook__.ipynb",
   "parameters": {},
   "start_time": "2024-06-30T06:01:37.546251",
   "version": "2.5.0"
  }
 },
 "nbformat": 4,
 "nbformat_minor": 5
}
