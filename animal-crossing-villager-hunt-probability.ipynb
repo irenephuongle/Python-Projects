{
 "cells": [
  {
   "cell_type": "code",
   "execution_count": 1,
   "id": "829d9e77",
   "metadata": {
    "_cell_guid": "b1076dfc-b9ad-4769-8c92-a6c4dae69d19",
    "_uuid": "8f2839f25d086af736a60e9eeb907d3b93b6e0e5",
    "execution": {
     "iopub.execute_input": "2024-06-27T07:26:30.241208Z",
     "iopub.status.busy": "2024-06-27T07:26:30.239919Z",
     "iopub.status.idle": "2024-06-27T07:26:32.275108Z",
     "shell.execute_reply": "2024-06-27T07:26:32.274022Z"
    },
    "papermill": {
     "duration": 2.045126,
     "end_time": "2024-06-27T07:26:32.277947",
     "exception": false,
     "start_time": "2024-06-27T07:26:30.232821",
     "status": "completed"
    },
    "tags": []
   },
   "outputs": [],
   "source": [
    "# This Python 3 environment comes with many helpful analytics libraries installed\n",
    "# It is defined by the kaggle/python Docker image: https://github.com/kaggle/docker-python\n",
    "# For example, here's several helpful packages to load\n",
    "\n",
    "import numpy as np # linear algebra\n",
    "import pandas as pd # data processing, CSV file I/O (e.g. pd.read_csv)\n",
    "from scipy.stats import nbinom\n",
    "import matplotlib.pyplot as plt\n",
    "\n",
    "# Input data files are available in the read-only \"../input/\" directory\n",
    "# For example, running this (by clicking run or pressing Shift+Enter) will list all files under the input directory\n",
    "\n",
    "import os\n",
    "\n",
    "# You can write up to 20GB to the current directory (/kaggle/working/) that gets preserved as output when you create a version using \"Save & Run All\" \n",
    "# You can also write temporary files to /kaggle/temp/, but they won't be saved outside of the current session"
   ]
  },
  {
   "cell_type": "code",
   "execution_count": 2,
   "id": "c88fc264",
   "metadata": {
    "execution": {
     "iopub.execute_input": "2024-06-27T07:26:32.289445Z",
     "iopub.status.busy": "2024-06-27T07:26:32.288585Z",
     "iopub.status.idle": "2024-06-27T07:26:32.320571Z",
     "shell.execute_reply": "2024-06-27T07:26:32.319575Z"
    },
    "papermill": {
     "duration": 0.040633,
     "end_time": "2024-06-27T07:26:32.323425",
     "exception": false,
     "start_time": "2024-06-27T07:26:32.282792",
     "status": "completed"
    },
    "tags": []
   },
   "outputs": [],
   "source": [
    "#read in villagers.csv file and store data into villagers \n",
    "\n",
    "villagers = pd.read_csv('/kaggle/input/villagers/villagers.csv')"
   ]
  },
  {
   "cell_type": "markdown",
   "id": "7143dbed",
   "metadata": {
    "papermill": {
     "duration": 0.004094,
     "end_time": "2024-06-27T07:26:32.332129",
     "exception": false,
     "start_time": "2024-06-27T07:26:32.328035",
     "status": "completed"
    },
    "tags": []
   },
   "source": [
    "# Data Collection and Cleaning"
   ]
  },
  {
   "cell_type": "markdown",
   "id": "e7840635",
   "metadata": {
    "papermill": {
     "duration": 0.004096,
     "end_time": "2024-06-27T07:26:32.340521",
     "exception": false,
     "start_time": "2024-06-27T07:26:32.336425",
     "status": "completed"
    },
    "tags": []
   },
   "source": [
    "Retrieve villager and species information to determine the probability of finding a specific villager given the villager species and total number of species."
   ]
  },
  {
   "cell_type": "code",
   "execution_count": 3,
   "id": "a9f70d0c",
   "metadata": {
    "execution": {
     "iopub.execute_input": "2024-06-27T07:26:32.351796Z",
     "iopub.status.busy": "2024-06-27T07:26:32.351384Z",
     "iopub.status.idle": "2024-06-27T07:26:32.375678Z",
     "shell.execute_reply": "2024-06-27T07:26:32.374545Z"
    },
    "papermill": {
     "duration": 0.033594,
     "end_time": "2024-06-27T07:26:32.378566",
     "exception": false,
     "start_time": "2024-06-27T07:26:32.344972",
     "status": "completed"
    },
    "tags": []
   },
   "outputs": [
    {
     "name": "stdout",
     "output_type": "stream",
     "text": [
      "         Name    Species  Gender Personality      Hobby Birthday Catchphrase  \\\n",
      "0     Admiral       Bird    Male      Cranky     Nature   27-Jan     aye aye   \n",
      "1     Agent S   Squirrel  Female       Peppy    Fitness    2-Jul    sidekick   \n",
      "2       Agnes        Pig  Female  Big Sister       Play   21-Apr     snuffle   \n",
      "3          Al    Gorilla    Male        Lazy    Fitness   18-Oct     ayyyeee   \n",
      "4     Alfonso  Alligator    Male        Lazy       Play    9-Jun    it'sa me   \n",
      "..        ...        ...     ...         ...        ...      ...         ...   \n",
      "386    Winnie      Horse  Female       Peppy    Fashion   31-Jan      hay-OK   \n",
      "387  Wolfgang       Wolf    Male      Cranky  Education   25-Nov     snarrrl   \n",
      "388      Yuka      Koala  Female      Snooty    Fashion   20-Jul     tsk tsk   \n",
      "389      Zell       Deer    Male        Smug      Music    7-Jun       pronk   \n",
      "390    Zucker    Octopus    Male        Lazy     Nature    8-Mar       bloop   \n",
      "\n",
      "       Favorite Song Style 1   Style 2 Color 1 Color 2  \\\n",
      "0         Steep Hill    Cool      Cool   Black    Blue   \n",
      "1      Go K.K. Rider  Active    Simple    Blue   Black   \n",
      "2         K.K. House  Simple   Elegant    Pink   White   \n",
      "3      Go K.K. Rider  Active    Active     Red   White   \n",
      "4        Forest Life  Simple    Simple     Red    Blue   \n",
      "..               ...     ...       ...     ...     ...   \n",
      "386     K.K. Country    Cool    Simple   White    Gray   \n",
      "387         K.K. D&B    Cool    Active   Black   Green   \n",
      "388     Soulful K.K.    Cool   Elegant  Orange  Yellow   \n",
      "389       K.K. Swing    Cool  Gorgeous  Purple    Gray   \n",
      "390  Spring Blossoms  Simple      Cute    Blue  Yellow   \n",
      "\n",
      "                   Wallpaper                     Flooring  \\\n",
      "0             dirt-clod wall                       tatami   \n",
      "1              concrete wall       colorful tile flooring   \n",
      "2     gray molded-panel wall           arabesque flooring   \n",
      "3              concrete wall        green rubber flooring   \n",
      "4       yellow playroom wall         green honeycomb tile   \n",
      "..                       ...                          ...   \n",
      "386      backyard-fence wall                backyard lawn   \n",
      "387  dark wooden-mosaic wall              stripe flooring   \n",
      "388      beige art-deco wall       simple purple flooring   \n",
      "389           cityscape wall  monochromatic tile flooring   \n",
      "390         chain-link fence                backyard lawn   \n",
      "\n",
      "                                        Furniture List Filename  \\\n",
      "0    717;1849;7047;2736;787;5970;3449;3622;3802;410...    brd06   \n",
      "1    7845;7150;3468;4080;290;3971;3449;1708;4756;25...    squ05   \n",
      "2    4129;7236;7235;7802;896;3428;4027;7325;3958;71...    pig17   \n",
      "3    1452;4078;4013;833;4116;3697;7845;3307;3946;39...    gor08   \n",
      "4    4763;3205;3701;1557;3623;85;3208;3584;4761;121...    crd00   \n",
      "..                                                 ...      ...   \n",
      "386  1626;1626;5970;4003;3509;1620;1627;3467;1631;1...    hrs05   \n",
      "387  4117;7323;7323;3275;4109;3270;3196;4338;3200;3...    wol02   \n",
      "388    3957;3955;2554;3974;3951;794;4106;3959;3958;997    kal00   \n",
      "389  1875;863;4129;4053;4053;3951;794;3775;4046;423...    der02   \n",
      "390  4042;4412;7526;4077;4077;3064;4077;3946;3617;3...    ocp02   \n",
      "\n",
      "       Unique Entry ID  \n",
      "0    B3RyfNEqwGmcccRC3  \n",
      "1    SGMdki6dzpDZyXAw5  \n",
      "2    jzWCiDPm9MqtCfecP  \n",
      "3    LBifxETQJGEaLhBjC  \n",
      "4    REpd8KxB8p9aGBRSE  \n",
      "..                 ...  \n",
      "386  b4HwfyvThyipScSAv  \n",
      "387  RbF2wcn6jRxtgLDRd  \n",
      "388  QDcxk3dCNT6yeD9hk  \n",
      "389  LodBWtdMRZbjFNga9  \n",
      "390  2F5tipHqgmWvWXTLC  \n",
      "\n",
      "[391 rows x 17 columns]\n",
      "The total amount of unique villagers:  391\n"
     ]
    }
   ],
   "source": [
    "#print all the villagers and their info\n",
    "print(villagers)\n",
    "\n",
    "#count the number of total villagers\n",
    "villagers_total = len(villagers)\n",
    "print(\"The total amount of unique villagers: \", villagers_total)"
   ]
  },
  {
   "cell_type": "code",
   "execution_count": 4,
   "id": "4e0035c1",
   "metadata": {
    "execution": {
     "iopub.execute_input": "2024-06-27T07:26:32.389594Z",
     "iopub.status.busy": "2024-06-27T07:26:32.389166Z",
     "iopub.status.idle": "2024-06-27T07:26:32.397570Z",
     "shell.execute_reply": "2024-06-27T07:26:32.396478Z"
    },
    "papermill": {
     "duration": 0.017575,
     "end_time": "2024-06-27T07:26:32.400731",
     "exception": false,
     "start_time": "2024-06-27T07:26:32.383156",
     "status": "completed"
    },
    "tags": []
   },
   "outputs": [
    {
     "name": "stdout",
     "output_type": "stream",
     "text": [
      "The total amount of unique species:  35\n"
     ]
    }
   ],
   "source": [
    "#print the amount of species \n",
    "species_total = len(pd.unique(villagers['Species']))\n",
    "\n",
    "print(\"The total amount of unique species: \", species_total)"
   ]
  },
  {
   "cell_type": "code",
   "execution_count": 5,
   "id": "2a9ea4a4",
   "metadata": {
    "execution": {
     "iopub.execute_input": "2024-06-27T07:26:32.411805Z",
     "iopub.status.busy": "2024-06-27T07:26:32.411402Z",
     "iopub.status.idle": "2024-06-27T07:26:32.424425Z",
     "shell.execute_reply": "2024-06-27T07:26:32.423289Z"
    },
    "papermill": {
     "duration": 0.021458,
     "end_time": "2024-06-27T07:26:32.426808",
     "exception": false,
     "start_time": "2024-06-27T07:26:32.405350",
     "status": "completed"
    },
    "tags": []
   },
   "outputs": [
    {
     "name": "stdout",
     "output_type": "stream",
     "text": [
      "12    Cat\n",
      "Name: Species, dtype: object\n",
      "The amount of villagers given the species:  23\n"
     ]
    }
   ],
   "source": [
    "#select a unique villager\n",
    "villager_name = 'Ankha'\n",
    "\n",
    "#print the species of the selected villager\n",
    "species = villagers[villagers.Name.isin([villager_name])].Species\n",
    "print(species)\n",
    "\n",
    "#print the total number of villagers given the species of the selected villager\n",
    "villagers_given_species = (villagers['Species'] == 'Cat').sum()\n",
    "print(\"The amount of villagers given the species: \", villagers_given_species)"
   ]
  },
  {
   "cell_type": "markdown",
   "id": "471e7a3e",
   "metadata": {
    "papermill": {
     "duration": 0.004393,
     "end_time": "2024-06-27T07:26:32.436321",
     "exception": false,
     "start_time": "2024-06-27T07:26:32.431928",
     "status": "completed"
    },
    "tags": []
   },
   "source": [
    "# Data Analysis"
   ]
  },
  {
   "cell_type": "markdown",
   "id": "5771cd37",
   "metadata": {
    "papermill": {
     "duration": 0.004311,
     "end_time": "2024-06-27T07:26:32.445263",
     "exception": false,
     "start_time": "2024-06-27T07:26:32.440952",
     "status": "completed"
    },
    "tags": []
   },
   "source": [
    "Calculate the probability of finding the selected villager given the total amount of unique villagers and the total amount of villagers given the species of the selected villager"
   ]
  },
  {
   "cell_type": "code",
   "execution_count": 6,
   "id": "fa0694a7",
   "metadata": {
    "execution": {
     "iopub.execute_input": "2024-06-27T07:26:32.456258Z",
     "iopub.status.busy": "2024-06-27T07:26:32.455853Z",
     "iopub.status.idle": "2024-06-27T07:26:32.462468Z",
     "shell.execute_reply": "2024-06-27T07:26:32.461371Z"
    },
    "papermill": {
     "duration": 0.015629,
     "end_time": "2024-06-27T07:26:32.465471",
     "exception": false,
     "start_time": "2024-06-27T07:26:32.449842",
     "status": "completed"
    },
    "tags": []
   },
   "outputs": [
    {
     "name": "stdout",
     "output_type": "stream",
     "text": [
      "0.0013605442176870747\n",
      "The probability of finding Ankha during a villager hunt is: 0.14%\n"
     ]
    }
   ],
   "source": [
    "#Condition: find the probability of finding the selected villager, given you already have x number of the same species on your island\n",
    "x = 2\n",
    "\n",
    "prob = (1/species_total)*(1/(villagers_given_species-x))\n",
    "print(prob)\n",
    "print(\"The probability of finding %s during a villager hunt is: %s%%\" % (villager_name, round(prob*100,2)))"
   ]
  },
  {
   "cell_type": "code",
   "execution_count": 7,
   "id": "ce500af2",
   "metadata": {
    "execution": {
     "iopub.execute_input": "2024-06-27T07:26:32.477348Z",
     "iopub.status.busy": "2024-06-27T07:26:32.476566Z",
     "iopub.status.idle": "2024-06-27T07:26:32.485295Z",
     "shell.execute_reply": "2024-06-27T07:26:32.484193Z"
    },
    "papermill": {
     "duration": 0.01809,
     "end_time": "2024-06-27T07:26:32.488548",
     "exception": false,
     "start_time": "2024-06-27T07:26:32.470458",
     "status": "completed"
    },
    "tags": []
   },
   "outputs": [
    {
     "name": "stdout",
     "output_type": "stream",
     "text": [
      "0.12847308453427272\n",
      "The probability of finding Ankha during a villager hunt given you have already have 2 of the same species and 100 tickets is: 12.85%\n"
     ]
    }
   ],
   "source": [
    "#Calculate the odds of finding a specific villager based on the number of tickets.\n",
    "tickets = 100\n",
    "\n",
    "#Each visit to an island is an independent bernoulli trial. To find the probability of finding the selected villager given a certain number of tickets, we\n",
    "#must use a negative binomial distribution model, where we find the number of successes in multiple independent and identical bernoulli trials, which is\n",
    "#finding the selected villager \n",
    "\n",
    "nmt_prob = nbinom.cdf(tickets, 1, prob)\n",
    "print(nmt_prob)\n",
    "\n",
    "print(\"The probability of finding %s during a villager hunt given you have already have %s of the same species and %s tickets is: %s%%\" % (villager_name, x, tickets, round(nmt_prob*100,2)))\n"
   ]
  }
 ],
 "metadata": {
  "kaggle": {
   "accelerator": "none",
   "dataSources": [
    {
     "datasetId": 661950,
     "sourceId": 2314697,
     "sourceType": "datasetVersion"
    },
    {
     "datasetId": 5290681,
     "sourceId": 8798546,
     "sourceType": "datasetVersion"
    }
   ],
   "dockerImageVersionId": 30732,
   "isGpuEnabled": false,
   "isInternetEnabled": true,
   "language": "python",
   "sourceType": "notebook"
  },
  "kernelspec": {
   "display_name": "Python 3",
   "language": "python",
   "name": "python3"
  },
  "language_info": {
   "codemirror_mode": {
    "name": "ipython",
    "version": 3
   },
   "file_extension": ".py",
   "mimetype": "text/x-python",
   "name": "python",
   "nbconvert_exporter": "python",
   "pygments_lexer": "ipython3",
   "version": "3.10.13"
  },
  "papermill": {
   "default_parameters": {},
   "duration": 6.009152,
   "end_time": "2024-06-27T07:26:33.116045",
   "environment_variables": {},
   "exception": null,
   "input_path": "__notebook__.ipynb",
   "output_path": "__notebook__.ipynb",
   "parameters": {},
   "start_time": "2024-06-27T07:26:27.106893",
   "version": "2.5.0"
  }
 },
 "nbformat": 4,
 "nbformat_minor": 5
}
